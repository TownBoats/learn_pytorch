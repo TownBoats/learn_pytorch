{
 "cells": [
  {
   "attachments": {},
   "cell_type": "markdown",
   "metadata": {},
   "source": [
    "# 系统学习Pytorch笔记三\n",
    "Pytorch数据读取机制(DataLoader)与图像预处理模块(transforms)\n"
   ]
  },
  {
   "attachments": {},
   "cell_type": "markdown",
   "metadata": {},
   "source": [
    "## 2.Pytorch的数据读取\n",
    "### 2.1 DataLoader:\n",
    "主要的4个参数:  \n",
    "- dataset:设置数据集,决定数据从哪读取以及如何读取  \n",
    "- batch_size:决定每一批的大小  \n",
    "- shuffle:每个epoch是否乱序  \n",
    "- drop_last:在batch_size不能被整除是是否舍弃最后一批数据  \n",
    "\n",
    "Epoch， Iteration和Batchsize的概念：    \n",
    "- Epoch： 所有训练样本都已输入到模型中，称为一个Epoch  \n",
    "- Iteration： 一批样本输入到模型中，称为一个Iteration  \n",
    "- Batchsize： 一批样本的大小， 决定一个Epoch有多少个Iteration\n",
    "\n",
    "\n",
    "### 2.2 Dataset  \n",
    "`torch.utils.data.Dataset()`:Dataset的抽象类,自定义的Dataset需要继承它,且必须复写`__getitem()__`这个方法\n",
    "\n",
    "具体的调试细节,暂时感觉能力不太够,不好写出来,等后面总结完了再写.\n"
   ]
  },
  {
   "attachments": {},
   "cell_type": "markdown",
   "metadata": {},
   "source": [
    "## 3. 图像处理transforms"
   ]
  },
  {
   "attachments": {},
   "cell_type": "markdown",
   "metadata": {},
   "source": [
    "暂时空缺, 因为原来博主的教程pytorch版本比较老, 有一些函数不能用了."
   ]
  }
 ],
 "metadata": {
  "language_info": {
   "name": "python"
  },
  "orig_nbformat": 4
 },
 "nbformat": 4,
 "nbformat_minor": 2
}
