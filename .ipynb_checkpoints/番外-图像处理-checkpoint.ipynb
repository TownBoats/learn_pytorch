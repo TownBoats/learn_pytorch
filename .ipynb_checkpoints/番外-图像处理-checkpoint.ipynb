{
 "cells": [
  {
   "attachments": {},
   "cell_type": "markdown",
   "metadata": {},
   "source": [
    "## numpy-tensor-image之间的关系和转换\n",
    "在学习transforms的时候,突然想仔细了解一下经过预处理的图像是怎样的. 不如进一步把相关的概念都梳理一下.  \n",
    "首先是三种数据的介绍(by ChatGPT):\n",
    "- numpy数组:NumPy 是 Python 中用于科学计算的一个核心库，它提供了多维数组对象和各种数学函数来操作这些数组。NumPy 数组在数据处理、预处理和分析中被广泛使用。在与 PyTorch 交互时，你可以将数据从 NumPy 数组转换为 Tensor，也可以将 Tensor 转换为 NumPy 数组。\n",
    "- Tensor张量:在 PyTorch 中，Tensor 是一个多维数组，类似于 NumPy 的多维数组，但具有 GPU 加速的能力。PyTorch 的神经网络模型以及相关操作都是基于 Tensor 进行计算的。你可以将数据加载到 Tensor 中，然后在 GPU 上执行操作以提高计算性能。\n",
    "- 图像数据:图像是由像素组成的二维或三维数组。在计算机视觉任务中，图像是输入数据，经过神经网络处理后得到输出结果。通常，图像可以使用 PIL（Python Imaging Library）或 OpenCV（Open Source Computer Vision Library）库加载和处理。\n",
    "\n",
    "关于使用PIL库和使用OpenCV库的区别:\n",
    "1. PIL库是将图片处理成自己的\"Image\"类型的数据, 而OpenCV是将图片处理成numpy数组来操作数据.\n",
    "2. 通道顺序不同: Image数据类型采用RGB排列,而OpenCV采用BGR排列\n",
    "\n",
    "两个库都需要转换成Tensor才能用pytorch中的transforms处理.  "
   ]
  },
  {
   "attachments": {},
   "cell_type": "markdown",
   "metadata": {},
   "source": [
    "## 图片的展示\n",
    "图片可以使用matplotlib库来展示. "
   ]
  },
  {
   "cell_type": "code",
   "execution_count": 2,
   "metadata": {},
   "outputs": [
    {
     "ename": "error",
     "evalue": "OpenCV(4.7.0) D:\\a\\opencv-python\\opencv-python\\opencv\\modules\\highgui\\src\\window.cpp:971: error: (-215:Assertion failed) size.width>0 && size.height>0 in function 'cv::imshow'\n",
     "output_type": "error",
     "traceback": [
      "\u001b[1;31m---------------------------------------------------------------------------\u001b[0m",
      "\u001b[1;31merror\u001b[0m                                     Traceback (most recent call last)",
      "Cell \u001b[1;32mIn[2], line 8\u001b[0m\n\u001b[0;32m      5\u001b[0m image \u001b[39m=\u001b[39m cv2\u001b[39m.\u001b[39mimread(image_path)\n\u001b[0;32m      7\u001b[0m \u001b[39m# 展示图片\u001b[39;00m\n\u001b[1;32m----> 8\u001b[0m cv2\u001b[39m.\u001b[39;49mimshow(\u001b[39m'\u001b[39;49m\u001b[39mImage\u001b[39;49m\u001b[39m'\u001b[39;49m, image)\n\u001b[0;32m      9\u001b[0m cv2\u001b[39m.\u001b[39mwaitKey(\u001b[39m0\u001b[39m)\n\u001b[0;32m     10\u001b[0m cv2\u001b[39m.\u001b[39mdestroyAllWindows()\n",
      "\u001b[1;31merror\u001b[0m: OpenCV(4.7.0) D:\\a\\opencv-python\\opencv-python\\opencv\\modules\\highgui\\src\\window.cpp:971: error: (-215:Assertion failed) size.width>0 && size.height>0 in function 'cv::imshow'\n"
     ]
    }
   ],
   "source": [
    "import matplotlib.pyplot as plt\n",
    "from PIL import Image\n",
    "\n",
    "img_path = 'data\\Chapter3\\狗狗2.jpg'\n",
    "\n",
    "img = Image.open(img_path)\n",
    "\n",
    "plt.show(img)\n"
   ]
  }
 ],
 "metadata": {
  "kernelspec": {
   "display_name": "pytorch",
   "language": "python",
   "name": "python3"
  },
  "language_info": {
   "codemirror_mode": {
    "name": "ipython",
    "version": 3
   },
   "file_extension": ".py",
   "mimetype": "text/x-python",
   "name": "python",
   "nbconvert_exporter": "python",
   "pygments_lexer": "ipython3",
   "version": "3.8.16"
  },
  "orig_nbformat": 4
 },
 "nbformat": 4,
 "nbformat_minor": 2
}
